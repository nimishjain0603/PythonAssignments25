{
 "cells": [
  {
   "cell_type": "markdown",
   "id": "861d110b-242c-4fce-a7ff-d335ef5e3fff",
   "metadata": {},
   "source": [
    "# -------------------------------Assignment 1 --------------------------------------"
   ]
  },
  {
   "cell_type": "markdown",
   "id": "9551063d-e405-4ffb-8d85-5ceb7be99f31",
   "metadata": {},
   "source": [
    "1. Write a Python program to print \"Hello Python\"?"
   ]
  },
  {
   "cell_type": "code",
   "execution_count": 1,
   "id": "e16e6f2f-db34-4580-bf87-7c5cedb54fe7",
   "metadata": {},
   "outputs": [
    {
     "name": "stdout",
     "output_type": "stream",
     "text": [
      "Hello Python\n"
     ]
    }
   ],
   "source": [
    "print(\"Hello Python\")"
   ]
  },
  {
   "cell_type": "markdown",
   "id": "c07f2777-3c28-43c3-89e9-a77ee9cab315",
   "metadata": {},
   "source": [
    "2. Write a Python program to do arithmetical operations addition and division.?"
   ]
  },
  {
   "cell_type": "code",
   "execution_count": 2,
   "id": "dd6a9846-c44c-40c9-a7bf-6064b6ce6210",
   "metadata": {},
   "outputs": [
    {
     "name": "stdout",
     "output_type": "stream",
     "text": [
      "Addition is : 22\n",
      "Divison is :  0.8333333333333334\n"
     ]
    }
   ],
   "source": [
    "number1 = 12\n",
    "number2 = 10\n",
    "total = number1 + number2\n",
    "divison = number2/number1\n",
    "print(\"Addition is :\",total)\n",
    "print(\"Divison is : \", divison)"
   ]
  },
  {
   "cell_type": "markdown",
   "id": "3a7e8354-e653-463f-82cd-6c076ee5386e",
   "metadata": {},
   "source": [
    "3. Write a python program to find the area of the triangle?"
   ]
  },
  {
   "cell_type": "code",
   "execution_count": 3,
   "id": "fe1e7c08-24d9-4063-9c68-8b642bf89807",
   "metadata": {},
   "outputs": [
    {
     "name": "stdin",
     "output_type": "stream",
     "text": [
      " Enter the value of base :  12\n",
      " Enter the value of height :  12\n"
     ]
    },
    {
     "name": "stdout",
     "output_type": "stream",
     "text": [
      "Area of the Triangle :  72.0\n"
     ]
    }
   ],
   "source": [
    "# area of triangle\n",
    "# 1/2 * base * height\n",
    "base = int(input(\" Enter the value of base : \"))\n",
    "height = int(input(\" Enter the value of height : \"))\n",
    "area = 1/2* (base) * (height)\n",
    "print(\"Area of the Triangle : \", area)"
   ]
  },
  {
   "cell_type": "markdown",
   "id": "94af083a-458e-4529-b474-d5e00bb8cb29",
   "metadata": {},
   "source": [
    "4. Write a Python program to swap two variables?"
   ]
  },
  {
   "cell_type": "code",
   "execution_count": 4,
   "id": "faade3ed-7755-4bd1-8789-c542ed3d1899",
   "metadata": {},
   "outputs": [
    {
     "name": "stdin",
     "output_type": "stream",
     "text": [
      "Enter the value of 1st variable:  abcd\n",
      "Enter the value of 2nd variable:  bcd\n"
     ]
    },
    {
     "name": "stdout",
     "output_type": "stream",
     "text": [
      "value of 1st variable: bcd\n",
      "value of 2nd variable: abcd\n"
     ]
    }
   ],
   "source": [
    "var1 = input(\"Enter the value of 1st variable: \")\n",
    "var2 = input(\"Enter the value of 2nd variable: \")\n",
    "var1,var2=var2,var1\n",
    "print(\"value of 1st variable:\",var1)\n",
    "print(\"value of 2nd variable:\",var2)"
   ]
  },
  {
   "cell_type": "code",
   "execution_count": 5,
   "id": "36617fd4-e6e2-452e-803c-ad133655214b",
   "metadata": {},
   "outputs": [
    {
     "name": "stdin",
     "output_type": "stream",
     "text": [
      "Enter the value of 1st variable:  10\n",
      "Enter the value of 2nd variable:  20\n"
     ]
    },
    {
     "name": "stdout",
     "output_type": "stream",
     "text": [
      "value of 1st variable: 20\n",
      "value of 2nd variable: 10\n"
     ]
    }
   ],
   "source": [
    "var1 = int(input(\"Enter the value of 1st variable: \"))\n",
    "var2 = int(input(\"Enter the value of 2nd variable: \"))\n",
    "var1 = var1+var2\n",
    "var2 = var1-var2\n",
    "var1 = var1-var2\n",
    "print(\"value of 1st variable:\",var1)\n",
    "print(\"value of 2nd variable:\",var2)"
   ]
  },
  {
   "cell_type": "markdown",
   "id": "4a6800bb-f319-40d5-a919-ba621d7675a4",
   "metadata": {},
   "source": [
    "5. Write a Python program to generate a random number?"
   ]
  },
  {
   "cell_type": "code",
   "execution_count": 7,
   "id": "5367fc06-28d2-4cc6-bca9-ff396474b4be",
   "metadata": {},
   "outputs": [
    {
     "name": "stdout",
     "output_type": "stream",
     "text": [
      "0.6122041740389791\n"
     ]
    }
   ],
   "source": [
    "import random\n",
    "num=random.random()\n",
    "print(num)"
   ]
  },
  {
   "cell_type": "code",
   "execution_count": 8,
   "id": "114d071e-d0ec-4f6e-a81e-0aea6dc172c9",
   "metadata": {},
   "outputs": [
    {
     "data": {
      "text/plain": [
       "4015"
      ]
     },
     "execution_count": 8,
     "metadata": {},
     "output_type": "execute_result"
    }
   ],
   "source": [
    "random.randint(1000,9999)"
   ]
  },
  {
   "cell_type": "code",
   "execution_count": 20,
   "id": "4a74438b-e220-4cb3-8c14-ed5246b5034e",
   "metadata": {},
   "outputs": [
    {
     "data": {
      "text/plain": [
       "66"
      ]
     },
     "execution_count": 20,
     "metadata": {},
     "output_type": "execute_result"
    }
   ],
   "source": [
    "random.randrange(0,100,2)"
   ]
  }
 ],
 "metadata": {
  "kernelspec": {
   "display_name": "Python 3 (ipykernel)",
   "language": "python",
   "name": "python3"
  },
  "language_info": {
   "codemirror_mode": {
    "name": "ipython",
    "version": 3
   },
   "file_extension": ".py",
   "mimetype": "text/x-python",
   "name": "python",
   "nbconvert_exporter": "python",
   "pygments_lexer": "ipython3",
   "version": "3.13.0"
  }
 },
 "nbformat": 4,
 "nbformat_minor": 5
}
