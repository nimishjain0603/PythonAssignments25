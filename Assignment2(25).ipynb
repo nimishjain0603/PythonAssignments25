{
 "cells": [
  {
   "cell_type": "markdown",
   "id": "a3f71e4c-2d9e-451b-8250-791a491f65a9",
   "metadata": {},
   "source": [
    "# -------------------------------Assignment 2 --------------------------------------"
   ]
  },
  {
   "cell_type": "markdown",
   "id": "3e6ff21c-1e9b-427e-b863-4171d5293bfe",
   "metadata": {},
   "source": [
    "1. Write a Python program to convert kilometers to miles?"
   ]
  },
  {
   "cell_type": "code",
   "execution_count": 11,
   "id": "69704f6a-4416-49c7-a06a-0449d0c1c87c",
   "metadata": {},
   "outputs": [
    {
     "name": "stdin",
     "output_type": "stream",
     "text": [
      "Enter the value in kilometers :  3\n"
     ]
    },
    {
     "name": "stdout",
     "output_type": "stream",
     "text": [
      "3.0 kms in miles : 1.863 miles\n"
     ]
    }
   ],
   "source": [
    "km_val = float(input(\"Enter the value in kilometers : \"))\n",
    "miles = km_val*0.621\n",
    "print(f\"{km_val} kms in miles : {miles} miles\")"
   ]
  },
  {
   "cell_type": "code",
   "execution_count": 12,
   "id": "0be1dcc7-1cc5-4649-825c-6477774c865f",
   "metadata": {},
   "outputs": [],
   "source": [
    "#using function\n",
    "def km_miles(km):\n",
    "    miles = km*0.621\n",
    "    return miles"
   ]
  },
  {
   "cell_type": "code",
   "execution_count": 13,
   "id": "99ff5d97-e3a8-4274-8a81-99a5e2714e84",
   "metadata": {},
   "outputs": [
    {
     "name": "stdin",
     "output_type": "stream",
     "text": [
      "Enter the value in kilometers :  12\n"
     ]
    },
    {
     "name": "stdout",
     "output_type": "stream",
     "text": [
      "12.0 kms in miles : 7.452 miles\n"
     ]
    }
   ],
   "source": [
    "km_val = float(input(\"Enter the value in kilometers : \"))\n",
    "print(f\"{km_val} kms in miles : {km_miles(km_val)} miles\")"
   ]
  },
  {
   "cell_type": "markdown",
   "id": "2fb87cc7-b988-4e9f-a514-47363fde9be5",
   "metadata": {},
   "source": [
    "2. Write a Python program to convert Celsius to Fahrenheit?"
   ]
  },
  {
   "cell_type": "code",
   "execution_count": 14,
   "id": "5235ae35-f2f5-4eae-9750-6ca19b5d06c6",
   "metadata": {},
   "outputs": [
    {
     "name": "stdin",
     "output_type": "stream",
     "text": [
      "Enter the temperature in degree celsius :  37\n"
     ]
    },
    {
     "name": "stdout",
     "output_type": "stream",
     "text": [
      "37.0 degree celsius in farhenheit : 98.60000000000001 degree farhenheit\n"
     ]
    }
   ],
   "source": [
    "val_c = float(input(\"Enter the temperature in degree celsius : \"))\n",
    "val_f = val_c*(9/5) + 32\n",
    "print(f\"{val_c} degree celsius in farhenheit : {val_f} degree farhenheit\")"
   ]
  },
  {
   "cell_type": "code",
   "execution_count": 15,
   "id": "fb2224ac-d86f-4d1d-bdc1-1e0d36e82ac8",
   "metadata": {},
   "outputs": [],
   "source": [
    "#using function\n",
    "def cel_farh(val_c):\n",
    "    val_f = val_c*(9/5) + 32\n",
    "    return val_f"
   ]
  },
  {
   "cell_type": "code",
   "execution_count": 16,
   "id": "f8762e7e-5d8e-4fba-bfcf-7289864c3322",
   "metadata": {},
   "outputs": [
    {
     "name": "stdin",
     "output_type": "stream",
     "text": [
      "Enter the temperature in degree celsius :  38\n"
     ]
    },
    {
     "name": "stdout",
     "output_type": "stream",
     "text": [
      "38.0 degree celsius in farhenheit : 100.4 degree farhenheit\n"
     ]
    }
   ],
   "source": [
    "val_c = float(input(\"Enter the temperature in degree celsius : \"))\n",
    "print(f\"{val_c} degree celsius in farhenheit : {cel_farh(val_c)} degree farhenheit\")"
   ]
  },
  {
   "cell_type": "markdown",
   "id": "53bd042b-98dd-4be2-a538-eef80603484b",
   "metadata": {},
   "source": [
    "3. Write a Python program to display calendar?"
   ]
  },
  {
   "cell_type": "code",
   "execution_count": 28,
   "id": "0753d587-f0a4-4955-9f0d-96471de4ff9e",
   "metadata": {},
   "outputs": [
    {
     "name": "stdout",
     "output_type": "stream",
     "text": [
      "                                  2024\n",
      "\n",
      "      January                   February                   March\n",
      "Mo Tu We Th Fr Sa Su      Mo Tu We Th Fr Sa Su      Mo Tu We Th Fr Sa Su\n",
      " 1  2  3  4  5  6  7                1  2  3  4                   1  2  3\n",
      " 8  9 10 11 12 13 14       5  6  7  8  9 10 11       4  5  6  7  8  9 10\n",
      "15 16 17 18 19 20 21      12 13 14 15 16 17 18      11 12 13 14 15 16 17\n",
      "22 23 24 25 26 27 28      19 20 21 22 23 24 25      18 19 20 21 22 23 24\n",
      "29 30 31                  26 27 28 29               25 26 27 28 29 30 31\n",
      "\n",
      "       April                      May                       June\n",
      "Mo Tu We Th Fr Sa Su      Mo Tu We Th Fr Sa Su      Mo Tu We Th Fr Sa Su\n",
      " 1  2  3  4  5  6  7             1  2  3  4  5                      1  2\n",
      " 8  9 10 11 12 13 14       6  7  8  9 10 11 12       3  4  5  6  7  8  9\n",
      "15 16 17 18 19 20 21      13 14 15 16 17 18 19      10 11 12 13 14 15 16\n",
      "22 23 24 25 26 27 28      20 21 22 23 24 25 26      17 18 19 20 21 22 23\n",
      "29 30                     27 28 29 30 31            24 25 26 27 28 29 30\n",
      "\n",
      "        July                     August                  September\n",
      "Mo Tu We Th Fr Sa Su      Mo Tu We Th Fr Sa Su      Mo Tu We Th Fr Sa Su\n",
      " 1  2  3  4  5  6  7                1  2  3  4                         1\n",
      " 8  9 10 11 12 13 14       5  6  7  8  9 10 11       2  3  4  5  6  7  8\n",
      "15 16 17 18 19 20 21      12 13 14 15 16 17 18       9 10 11 12 13 14 15\n",
      "22 23 24 25 26 27 28      19 20 21 22 23 24 25      16 17 18 19 20 21 22\n",
      "29 30 31                  26 27 28 29 30 31         23 24 25 26 27 28 29\n",
      "                                                    30\n",
      "\n",
      "      October                   November                  December\n",
      "Mo Tu We Th Fr Sa Su      Mo Tu We Th Fr Sa Su      Mo Tu We Th Fr Sa Su\n",
      "    1  2  3  4  5  6                   1  2  3                         1\n",
      " 7  8  9 10 11 12 13       4  5  6  7  8  9 10       2  3  4  5  6  7  8\n",
      "14 15 16 17 18 19 20      11 12 13 14 15 16 17       9 10 11 12 13 14 15\n",
      "21 22 23 24 25 26 27      18 19 20 21 22 23 24      16 17 18 19 20 21 22\n",
      "28 29 30 31               25 26 27 28 29 30         23 24 25 26 27 28 29\n",
      "                                                    30 31\n",
      "\n",
      "    January 2024\n",
      "Mo Tu We Th Fr Sa Su\n",
      " 1  2  3  4  5  6  7\n",
      " 8  9 10 11 12 13 14\n",
      "15 16 17 18 19 20 21\n",
      "22 23 24 25 26 27 28\n",
      "29 30 31\n",
      "\n",
      "(calendar.MONDAY, 31)\n"
     ]
    }
   ],
   "source": [
    "import calendar\n",
    "\n",
    "print(calendar.calendar(2024,1))\n",
    "print(calendar.month(2024,1))\n",
    "print(calendar.monthrange(2024,1))"
   ]
  },
  {
   "cell_type": "code",
   "execution_count": 31,
   "id": "df4873c6-7a68-44f8-9fe6-463ebf2f3afc",
   "metadata": {},
   "outputs": [
    {
     "name": "stdout",
     "output_type": "stream",
     "text": [
      "(calendar.MONDAY, 31)\n"
     ]
    }
   ],
   "source": [
    "print(calendar.monthrange(2024,1))"
   ]
  },
  {
   "cell_type": "markdown",
   "id": "73097101-8008-497c-9cda-406b0842002d",
   "metadata": {},
   "source": [
    "4. Write a Python program to solve quadratic equation?"
   ]
  },
  {
   "cell_type": "code",
   "execution_count": 35,
   "id": "eb9f4063-e1e4-4cf4-9cba-a6e97dbf62e3",
   "metadata": {},
   "outputs": [
    {
     "name": "stdin",
     "output_type": "stream",
     "text": [
      "Give the value of coefficient a : 2\n",
      "Give the value of coefficient b : 4\n",
      "Give the value of constant c : 2\n"
     ]
    },
    {
     "name": "stdout",
     "output_type": "stream",
     "text": [
      "Roots of the quadratic equation 2x^2 + 4x + 2 = 0 : -4.0 and -4.0\n"
     ]
    }
   ],
   "source": [
    "#Quad equation ax^2 + bx + c = 0\n",
    "import math\n",
    "\n",
    "coeff_a = int(input(\"Give the value of coefficient a :\"))\n",
    "coeff_b = int(input(\"Give the value of coefficient b :\"))\n",
    "cons_c = int(input(\"Give the value of constant c :\"))\n",
    "val_x1 = (-coeff_b + math.sqrt(coeff_b**2 - 4*coeff_a*cons_c))/2*coeff_a\n",
    "val_x2 = (-coeff_b - math.sqrt(coeff_b**2 - 4*coeff_a*cons_c))/2*coeff_a\n",
    "print(f\"Roots of the quadratic equation {coeff_a}x^2 + {coeff_b}x + {cons_c} = 0 : {val_x1} and {val_x2}\")"
   ]
  },
  {
   "cell_type": "code",
   "execution_count": 37,
   "id": "c877591e-022c-4ce5-b8bd-4101d7e4ef83",
   "metadata": {},
   "outputs": [],
   "source": [
    "def quad(coeff_a,coeff_b,cons_c):\n",
    "    val_x1 = (-coeff_b + math.sqrt(coeff_b**2 - 4*coeff_a*cons_c))/2*coeff_a\n",
    "    val_x2 = (-coeff_b - math.sqrt(coeff_b**2 - 4*coeff_a*cons_c))/2*coeff_a\n",
    "    return val_x1,val_x2"
   ]
  },
  {
   "cell_type": "code",
   "execution_count": 46,
   "id": "234f7f1c-af23-4ad8-9eb5-6a80549acacf",
   "metadata": {},
   "outputs": [
    {
     "name": "stdin",
     "output_type": "stream",
     "text": [
      "Give the value of coefficient a : 2\n",
      "Give the value of coefficient b : 4\n",
      "Give the value of constant c : 2\n"
     ]
    },
    {
     "name": "stdout",
     "output_type": "stream",
     "text": [
      "Roots of the quadratic equation 2x^2 + 4x + 2 = 0 are (-4.0, -4.0)\n"
     ]
    }
   ],
   "source": [
    "coeff_a = int(input(\"Give the value of coefficient a :\"))\n",
    "coeff_b = int(input(\"Give the value of coefficient b :\"))\n",
    "cons_c = int(input(\"Give the value of constant c :\"))\n",
    "print(f\"Roots of the quadratic equation {coeff_a}x^2 + {coeff_b}x + {cons_c} = 0 are {quad(coeff_a,coeff_b,cons_c)}\")"
   ]
  },
  {
   "cell_type": "code",
   "execution_count": null,
   "id": "aaaf7e68-9d7f-4223-9594-0673486440ba",
   "metadata": {},
   "outputs": [],
   "source": []
  },
  {
   "cell_type": "code",
   "execution_count": null,
   "id": "5df788fe-5836-4381-84e5-237d47f7a8a0",
   "metadata": {},
   "outputs": [],
   "source": []
  }
 ],
 "metadata": {
  "kernelspec": {
   "display_name": "Python 3 (ipykernel)",
   "language": "python",
   "name": "python3"
  },
  "language_info": {
   "codemirror_mode": {
    "name": "ipython",
    "version": 3
   },
   "file_extension": ".py",
   "mimetype": "text/x-python",
   "name": "python",
   "nbconvert_exporter": "python",
   "pygments_lexer": "ipython3",
   "version": "3.13.0"
  }
 },
 "nbformat": 4,
 "nbformat_minor": 5
}
