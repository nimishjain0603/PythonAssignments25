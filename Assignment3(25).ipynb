{
 "cells": [
  {
   "cell_type": "markdown",
   "id": "bdfdbf1a-9016-4113-988c-fd1f59490fce",
   "metadata": {},
   "source": [
    "# -------------------------------Assignment 3 --------------------------------------"
   ]
  },
  {
   "cell_type": "markdown",
   "id": "9508cb80-a154-4476-b2a3-80ea47ce557b",
   "metadata": {},
   "source": [
    "1. Write a Python Program to Check if a Number is Positive, Negative or Zero?"
   ]
  },
  {
   "cell_type": "code",
   "execution_count": 5,
   "id": "02feaa55-a193-49cd-8c02-bd75e1288c1f",
   "metadata": {},
   "outputs": [
    {
     "name": "stdin",
     "output_type": "stream",
     "text": [
      "Enter the number :  2\n"
     ]
    },
    {
     "name": "stdout",
     "output_type": "stream",
     "text": [
      "2 is positive number.\n"
     ]
    }
   ],
   "source": [
    "def check_num(number):\n",
    "    if number<0:\n",
    "        #print(f\"{number} is negative number.\")\n",
    "        return f\"{number} is negative number\"\n",
    "    elif number>0:\n",
    "        #print(f\"{number} is positive number.\")\n",
    "        return f\"{number} is positive number.\"\n",
    "    else:\n",
    "        #print(f\"{number} is zero.\")\n",
    "        return f\"{number} is zero.\"\n",
    "\n",
    "try:\n",
    "    number = int(input(\"Enter the number : \"))\n",
    "    print(check_num(number))\n",
    "except Exception as e:\n",
    "    print(\"only numbers are allowed. \",e)"
   ]
  },
  {
   "cell_type": "markdown",
   "id": "170b960c-e496-40a4-83cb-0df7e272ccfc",
   "metadata": {},
   "source": [
    "2. Write a Python Program to Check if a Number is Odd or Even?"
   ]
  },
  {
   "cell_type": "code",
   "execution_count": 13,
   "id": "0cf8fa05-c810-47e2-b516-5bd7abcf189e",
   "metadata": {},
   "outputs": [
    {
     "name": "stdin",
     "output_type": "stream",
     "text": [
      "Enter the number :  4\n"
     ]
    },
    {
     "name": "stdout",
     "output_type": "stream",
     "text": [
      "4 is even.\n"
     ]
    }
   ],
   "source": [
    "def odd_even(number):\n",
    "    if number%2 == 0:\n",
    "        return f\"{number} is even.\"\n",
    "    else:\n",
    "        return f\"{number} is odd.\"\n",
    "try: \n",
    "    number = int(input(\"Enter the number : \"))\n",
    "    print(odd_even(number))\n",
    "except Exception as e:\n",
    "    print(e)"
   ]
  },
  {
   "cell_type": "markdown",
   "id": "a46ffed9-da2d-47a8-8bb0-1a18c4ce5a1f",
   "metadata": {},
   "source": [
    "3. Write a Python Program to Check Leap Year?"
   ]
  },
  {
   "cell_type": "code",
   "execution_count": 35,
   "id": "2cc7a3f3-b5ed-4a0f-a367-fdde28923114",
   "metadata": {},
   "outputs": [
    {
     "name": "stdin",
     "output_type": "stream",
     "text": [
      "Enter the year :  1002\n"
     ]
    },
    {
     "name": "stdout",
     "output_type": "stream",
     "text": [
      "1002 is not a leap year.\n"
     ]
    }
   ],
   "source": [
    "def leap_year(year):\n",
    "    if (year%4 ==0 and year%100 !=0)or (year%400 ==0):\n",
    "        return f\"{year} is a leap year.\"\n",
    "    else:\n",
    "        return f\"{year} is not a leap year.\"\n",
    "try:\n",
    "    year = int(input(\"Enter the year : \"))\n",
    "    print(leap_year(year))\n",
    "except Exception as e:\n",
    "    print(e)"
   ]
  },
  {
   "cell_type": "markdown",
   "id": "077f81f9-d771-492b-9840-0758838cd6d9",
   "metadata": {},
   "source": [
    "4. Write a Python Program to Check Prime Number?"
   ]
  },
  {
   "cell_type": "code",
   "execution_count": 87,
   "id": "9ff47c16-329d-4cd5-92c9-07ee375e92d1",
   "metadata": {},
   "outputs": [
    {
     "name": "stdin",
     "output_type": "stream",
     "text": [
      "Enter the number :  8\n"
     ]
    },
    {
     "name": "stdout",
     "output_type": "stream",
     "text": [
      "8 is not prime\n"
     ]
    }
   ],
   "source": [
    "def check_prime(number):\n",
    "    for i in range(2,int(number**0.5)+1):\n",
    "        if number % i ==0:\n",
    "            return f\"{number} is not prime\"\n",
    "    else:\n",
    "        return f\"{number} is prime\"\n",
    "try:\n",
    "    num = int(input(\"Enter the number : \"))\n",
    "    print(check_prime(num))\n",
    "except Exception as e:\n",
    "    print(e)"
   ]
  },
  {
   "cell_type": "markdown",
   "id": "a3e16238-17ff-42db-879d-52e3429ecc02",
   "metadata": {},
   "source": [
    "5. Write a Python Program to Print all Prime Numbers in an Interval of 1-10000?"
   ]
  },
  {
   "cell_type": "code",
   "execution_count": 97,
   "id": "abcf2daf-6e75-46d6-b964-defe6b6c1dcc",
   "metadata": {},
   "outputs": [
    {
     "name": "stdin",
     "output_type": "stream",
     "text": [
      "Enter the number from which you want to find the prime numbers:  1\n",
      "Enter the number upto which you want to find the prime numbers:  1000\n"
     ]
    },
    {
     "name": "stdout",
     "output_type": "stream",
     "text": [
      "sum of prime numbers between 1-1000 is 76128 \n",
      " [1, 2, 3, 5, 7, 11, 13, 17, 19, 23, 29, 31, 37, 41, 43, 47, 53, 59, 61, 67, 71, 73, 79, 83, 89, 97, 101, 103, 107, 109, 113, 127, 131, 137, 139, 149, 151, 157, 163, 167, 173, 179, 181, 191, 193, 197, 199, 211, 223, 227, 229, 233, 239, 241, 251, 257, 263, 269, 271, 277, 281, 283, 293, 307, 311, 313, 317, 331, 337, 347, 349, 353, 359, 367, 373, 379, 383, 389, 397, 401, 409, 419, 421, 431, 433, 439, 443, 449, 457, 461, 463, 467, 479, 487, 491, 499, 503, 509, 521, 523, 541, 547, 557, 563, 569, 571, 577, 587, 593, 599, 601, 607, 613, 617, 619, 631, 641, 643, 647, 653, 659, 661, 673, 677, 683, 691, 701, 709, 719, 727, 733, 739, 743, 751, 757, 761, 769, 773, 787, 797, 809, 811, 821, 823, 827, 829, 839, 853, 857, 859, 863, 877, 881, 883, 887, 907, 911, 919, 929, 937, 941, 947, 953, 967, 971, 977, 983, 991, 997]\n"
     ]
    }
   ],
   "source": [
    "def check_prime(number):\n",
    "    for i in range(2,int(number**0.5)+1):\n",
    "        if number % i ==0:\n",
    "            break\n",
    "    else:\n",
    "        #print(f\"{number} is prime\")\n",
    "        return number\n",
    "def n_prime(lowerlimit,upperlimit):\n",
    "    p_sum = 0\n",
    "    p_list = []\n",
    "    for i in range(lowerlimit,upperlimit+1):\n",
    "        if check_prime(i):\n",
    "            p_list.append(i)\n",
    "            p_sum = p_sum+i\n",
    "    return p_sum,p_list\n",
    "\n",
    "try:\n",
    "    l_limit = int(input(\"Enter the number from which you want to find the prime numbers: \"))\n",
    "    u_limit = int(input(\"Enter the number upto which you want to find the prime numbers: \"))\n",
    "    ans = n_prime(l_limit,u_limit)\n",
    "    print(f\"sum of prime numbers between {l_limit}-{u_limit} is {ans[0]} \\n {ans[1]}\")\n",
    "\n",
    "except Exception as e:\n",
    "    print(e)"
   ]
  },
  {
   "cell_type": "code",
   "execution_count": null,
   "id": "df439bad-b8a0-455b-a809-fbb6dbf139b0",
   "metadata": {},
   "outputs": [],
   "source": []
  }
 ],
 "metadata": {
  "kernelspec": {
   "display_name": "Python 3 (ipykernel)",
   "language": "python",
   "name": "python3"
  },
  "language_info": {
   "codemirror_mode": {
    "name": "ipython",
    "version": 3
   },
   "file_extension": ".py",
   "mimetype": "text/x-python",
   "name": "python",
   "nbconvert_exporter": "python",
   "pygments_lexer": "ipython3",
   "version": "3.13.0"
  }
 },
 "nbformat": 4,
 "nbformat_minor": 5
}
