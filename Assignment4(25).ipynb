{
 "cells": [
  {
   "cell_type": "markdown",
   "id": "3163fc49-5d3d-4831-9362-d0ddb5e57c1f",
   "metadata": {},
   "source": [
    "# -------------------------------Assignment 4 --------------------------------------"
   ]
  },
  {
   "cell_type": "markdown",
   "id": "5addaf13-82f0-46ff-ad21-b977e2db55a0",
   "metadata": {},
   "source": [
    "1. Write a Python Program to Find the Factorial of a Number?"
   ]
  },
  {
   "cell_type": "code",
   "execution_count": 8,
   "id": "524bd7a7-ca35-4914-a512-45e82eed2469",
   "metadata": {},
   "outputs": [
    {
     "name": "stdin",
     "output_type": "stream",
     "text": [
      "Enter the number:  5\n"
     ]
    },
    {
     "name": "stdout",
     "output_type": "stream",
     "text": [
      "Factorial of 5 is 120\n"
     ]
    }
   ],
   "source": [
    "def factorial(number):\n",
    "    facto=1\n",
    "    while(number > 1):\n",
    "        facto = facto * number\n",
    "        number -=1\n",
    "    return facto\n",
    "\n",
    "try:\n",
    "    number = int(input(\"Enter the number: \"))\n",
    "    print(f\"Factorial of {number} is {factorial(number)}\")\n",
    "except Exception as e:\n",
    "    print(\"only integer values are accepted, \",e)"
   ]
  },
  {
   "cell_type": "markdown",
   "id": "53c69e13-2504-4f6c-a36e-1d910de16c4a",
   "metadata": {},
   "source": [
    "2. Write a Python Program to Display the multiplication Table?"
   ]
  },
  {
   "cell_type": "code",
   "execution_count": 10,
   "id": "e4bf904c-f78f-4dc1-bc90-749152ae0a8d",
   "metadata": {},
   "outputs": [
    {
     "name": "stdin",
     "output_type": "stream",
     "text": [
      "Enter the number:  5\n"
     ]
    },
    {
     "name": "stdout",
     "output_type": "stream",
     "text": [
      "5x1 = 5\n",
      "5x2 = 10\n",
      "5x3 = 15\n",
      "5x4 = 20\n",
      "5x5 = 25\n",
      "5x6 = 30\n",
      "5x7 = 35\n",
      "5x8 = 40\n",
      "5x9 = 45\n",
      "5x10 = 50\n"
     ]
    }
   ],
   "source": [
    "def table(number):\n",
    "    i = 1\n",
    "    while i<11:\n",
    "        print(f\"{number}x{i} = {number*i}\")\n",
    "        i+=1\n",
    "if __name__ == \"__main__\":\n",
    "    try:\n",
    "        number = int(input(\"Enter the number: \"))\n",
    "        table(number)\n",
    "    except Exception as e:\n",
    "        print(\"Only integer values are accepted, \",e)"
   ]
  },
  {
   "cell_type": "markdown",
   "id": "6318405e-d6cb-4889-a127-c4d8cd919481",
   "metadata": {},
   "source": [
    "3. Write a Python Program to Print the Fibonacci sequence?\n"
   ]
  },
  {
   "cell_type": "code",
   "execution_count": 7,
   "id": "78197681-49f0-4d58-9f59-927389999f33",
   "metadata": {},
   "outputs": [
    {
     "name": "stdin",
     "output_type": "stream",
     "text": [
      "Enter the number from where you want to start the sequence :  0\n",
      "Enter the second term of the sequence :  1\n",
      "Enter the number of terms in the sequence :  10\n"
     ]
    },
    {
     "name": "stdout",
     "output_type": "stream",
     "text": [
      "[0, 1, 1, 2, 3, 5, 8, 13, 21, 34]\n"
     ]
    }
   ],
   "source": [
    "def fibonacci_seq(start,nexterm,stop):\n",
    "    fib_list=[]\n",
    "    while stop!=0:\n",
    "        fib_list.append(start)\n",
    "        #print(start,end= \" \")\n",
    "        start, nexterm = nexterm, start+nexterm\n",
    "        stop-=1\n",
    "    return fib_list\n",
    "\n",
    "if __name__ == \"__main__\":  \n",
    "    try:\n",
    "        first = int(input(\"Enter the number from where you want to start the sequence : \"))\n",
    "        nexterm = int(input(\"Enter the second term of the sequence : \"))\n",
    "        stop = int(input(\"Enter the number of terms in the sequence : \"))\n",
    "        print(fibonacci_seq(first,nexterm, stop))\n",
    "    except Exception as e:\n",
    "        print(\"only integer values are allowed, \",e)"
   ]
  },
  {
   "cell_type": "code",
   "execution_count": null,
   "id": "4374f088-d0fb-4e6d-af84-7994d02ddd6e",
   "metadata": {},
   "outputs": [],
   "source": []
  },
  {
   "cell_type": "markdown",
   "id": "415be219-c8dd-4afc-a4de-79b01b5152e4",
   "metadata": {},
   "source": [
    "4. Write a Python Program to Check Armstrong Number?\n"
   ]
  },
  {
   "cell_type": "code",
   "execution_count": 25,
   "id": "67ac721c-9f45-443f-a747-7a8883a7ecc3",
   "metadata": {},
   "outputs": [
    {
     "name": "stdin",
     "output_type": "stream",
     "text": [
      "Enter any number:  1634\n"
     ]
    },
    {
     "name": "stdout",
     "output_type": "stream",
     "text": [
      "1634 is an armstrong number.\n"
     ]
    }
   ],
   "source": [
    "def check_armstrong(number,power):\n",
    "    total = 0\n",
    "    flag = number\n",
    "    while number!=0:\n",
    "        total = total + (number % 10)**power\n",
    "        number//=10\n",
    "    if total == flag:\n",
    "        return f\"{flag} is an armstrong number.\"\n",
    "    else:\n",
    "        return f\"{flag} is not an armstrong number.\"\n",
    "if __name__==\"__main__\":\n",
    "    try:\n",
    "        number = int(input(\"Enter any number: \"))\n",
    "        power = len(str(number))\n",
    "        print(check_armstrong(number,power))\n",
    "    except Exception as e:\n",
    "        print(\"only numbers are allowed, \", e)"
   ]
  },
  {
   "cell_type": "code",
   "execution_count": null,
   "id": "8d99f15c-27dd-4b57-8016-7471716a8c5e",
   "metadata": {},
   "outputs": [],
   "source": []
  },
  {
   "cell_type": "code",
   "execution_count": 23,
   "id": "4cc20776-ced5-4716-bdbd-accfb3985752",
   "metadata": {},
   "outputs": [
    {
     "name": "stdin",
     "output_type": "stream",
     "text": [
      "enter the number :  153\n"
     ]
    },
    {
     "name": "stdout",
     "output_type": "stream",
     "text": [
      "153 is an armstrong number\n"
     ]
    }
   ],
   "source": [
    "#using comprehension\n",
    "number = input(\"enter the number : \")\n",
    "power = len(number)\n",
    "total = sum([int(item)**power for item in number])\n",
    "if total == int(number):\n",
    "    print(f\"{int(number)} is an armstrong number\")\n",
    "else:\n",
    "    print(f\"{int(number)} is not an armstrong number.\")"
   ]
  },
  {
   "cell_type": "code",
   "execution_count": 22,
   "id": "e5efe295-bfc6-4ac4-b683-8ac4812b37a0",
   "metadata": {},
   "outputs": [
    {
     "name": "stdin",
     "output_type": "stream",
     "text": [
      "enter the number :  153\n"
     ]
    },
    {
     "name": "stdout",
     "output_type": "stream",
     "text": [
      "153 is an armstrong number\n"
     ]
    }
   ],
   "source": [
    "number = input(\"enter the number : \")\n",
    "power = len(number)\n",
    "total = 0\n",
    "for item in number:\n",
    "    total = int(item)**power + total\n",
    "if total == int(number):\n",
    "    print(f\"{int(number)} is an armstrong number\")\n",
    "else:\n",
    "    print(f\"{int(number)} is not an armstrong number.\")"
   ]
  },
  {
   "cell_type": "markdown",
   "id": "ef05b481-5c8c-4c35-bffd-a11b7afd6b49",
   "metadata": {},
   "source": [
    "5. Write a Python Program to Find Armstrong Number in an Interval?\n"
   ]
  },
  {
   "cell_type": "code",
   "execution_count": 26,
   "id": "ce33933d-4a6a-41a0-b6a7-323dfd13cd0a",
   "metadata": {},
   "outputs": [
    {
     "name": "stdin",
     "output_type": "stream",
     "text": [
      "Enter start number of the interval :  1\n",
      "Enter last number of the interval : 1000\n"
     ]
    },
    {
     "name": "stdout",
     "output_type": "stream",
     "text": [
      "[1, 2, 3, 4, 5, 6, 7, 8, 9, 153, 370, 371, 407]\n"
     ]
    }
   ],
   "source": [
    "def check_interval(first, last):\n",
    "    arm_list = []\n",
    "    for i in range(first, last+1):\n",
    "        total = 0\n",
    "        flag = i\n",
    "        power = len(str(i))\n",
    "        while i!=0:\n",
    "            total = total + (i % 10)**power\n",
    "            i//=10\n",
    "        if total == flag:\n",
    "            arm_list.append(flag)\n",
    "    return arm_list\n",
    "if __name__==\"__main__\":\n",
    "    try:\n",
    "        first = int(input(\"Enter start number of the interval : \"))\n",
    "        last = int(input(\"Enter last number of the interval :\"))\n",
    "        print(check_interval(first,last))\n",
    "    except Exception as e:\n",
    "        print(\"only numbers are allowed, \", e)"
   ]
  },
  {
   "cell_type": "markdown",
   "id": "c08b9df3-4365-4eca-bf27-2d4b6ab3bb68",
   "metadata": {},
   "source": [
    "6. Write a Python Program to Find the Sum of Natural Numbers?"
   ]
  },
  {
   "cell_type": "code",
   "execution_count": 17,
   "id": "f77500c0-afd0-4543-a1e7-48528d3ca2d3",
   "metadata": {},
   "outputs": [
    {
     "name": "stdin",
     "output_type": "stream",
     "text": [
      "Enter the start number of the interval 1\n",
      "Enter the last number of the interval 20\n"
     ]
    },
    {
     "name": "stdout",
     "output_type": "stream",
     "text": [
      "sum of natuarl numbers between 1 and 20 is 210,\n"
     ]
    }
   ],
   "source": [
    "def sumof_natural(first, last):\n",
    "    total = 0\n",
    "    while first<=last:\n",
    "        total = total + first\n",
    "        first+=1\n",
    "    return total\n",
    "\n",
    "if __name__ == \"__main__\":\n",
    "    try:\n",
    "        first = int(input(\"Enter the start number of the interval\"))\n",
    "        last = int(input(\"Enter the last number of the interval\"))\n",
    "        print(f\"sum of natuarl numbers between {first} and {last} is {sumof_natural(first,last)},\")\n",
    "    except Exception as e:\n",
    "        print(\"only numbers are allowed, \",e)"
   ]
  }
 ],
 "metadata": {
  "kernelspec": {
   "display_name": "Python 3 (ipykernel)",
   "language": "python",
   "name": "python3"
  },
  "language_info": {
   "codemirror_mode": {
    "name": "ipython",
    "version": 3
   },
   "file_extension": ".py",
   "mimetype": "text/x-python",
   "name": "python",
   "nbconvert_exporter": "python",
   "pygments_lexer": "ipython3",
   "version": "3.13.0"
  }
 },
 "nbformat": 4,
 "nbformat_minor": 5
}
